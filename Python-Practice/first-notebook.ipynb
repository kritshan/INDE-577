{
 "cells": [
  {
   "cell_type": "code",
   "execution_count": 9,
   "metadata": {},
   "outputs": [
    {
     "name": "stdout",
     "output_type": "stream",
     "text": [
      "100000\n",
      "5.0\n",
      "P(x) = (1)X^(3)(0)X^(2)(-2)X^(1)(1)X^(0)\n"
     ]
    }
   ],
   "source": [
    "john_data = {\n",
    "    'first_name': 'John',\n",
    "    'last_name': 'Doe', \n",
    "    'age': 34,\n",
    "    'salary': 100_000\n",
    "}\n",
    "\n",
    "jane_data = {\n",
    "    'first_name': 'Jane',\n",
    "    'last_name': 'Doe', \n",
    "    'age': 32,\n",
    "    'salary': 90_000\n",
    "}\n",
    "\n",
    "employee_data = {\n",
    "    'John Doe': john_data,\n",
    "    'Jane Doe': jane_data\n",
    "}\n",
    "\n",
    "print(employee_data['John Doe']['salary'])\n",
    "\n",
    "total_salary = sum([employee_data[employee]['salary'] for employee in employee_data])\n",
    "\n",
    "class DataBase:\n",
    "    def __init__(self, employee_data, vendor_data = None):\n",
    "        self.employee_data = employee_data\n",
    "        self.vendor_data = vendor_data\n",
    "        \n",
    "    def get_employee_names(self):\n",
    "        return list(self.employee_data.keys())\n",
    "    \n",
    "    def get_employee_salary(self):\n",
    "        return sum(self.employee_data[name][\"salary\"] for name in self.employee_data)\n",
    "    \n",
    "    def add_employee(self, name, data):\n",
    "        self.employee_data[name] = data\n",
    "\n",
    "my_vendor_data = {}\n",
    "\n",
    "db = DataBase(employee_data, vendor_data = my_vendor_data)\n",
    "db.add_employee('Mike Cox', {'age': 45, 'salary': 80_000})\n",
    "db.employee_data\n",
    "\n",
    "class Polynomial(object):\n",
    "    def __init__(self, coef, name = 'P(x)'):\n",
    "        self.coef = coef\n",
    "        self.name = name\n",
    "        \n",
    "    def degree(self):\n",
    "        return len(self.coef) - 1\n",
    "    \n",
    "    def __call__(self, x):\n",
    "        degree = self.degree()\n",
    "        value = 0.0\n",
    "        for i in range(degree + 1):\n",
    "            value += self.coef[i] * (x ** (degree-i))\n",
    "        return value\n",
    "    \n",
    "    def __repr__(self):\n",
    "        degree = self.degree()\n",
    "        value = self.name + \" = \" \n",
    "        for i in range(degree + 1):\n",
    "            value += f\"({self.coef[i]})X^({degree-i})\"\n",
    "        return value\n",
    "    \n",
    "p = Polynomial([1, 0, -2, 1])\n",
    "print(p(2))\n",
    "print(p)"
   ]
  },
  {
   "cell_type": "code",
   "execution_count": 10,
   "metadata": {},
   "outputs": [
    {
     "name": "stdout",
     "output_type": "stream",
     "text": [
      "a = array([1., 2., 3.])\n"
     ]
    }
   ],
   "source": [
    "import numpy as np\n",
    "\n",
    "a = np.array([1.0, 2.0, 3.0])\n",
    "print(f\"{a = }\")"
   ]
  },
  {
   "cell_type": "code",
   "execution_count": null,
   "metadata": {},
   "outputs": [],
   "source": []
  }
 ],
 "metadata": {
  "kernelspec": {
   "display_name": "base",
   "language": "python",
   "name": "python3"
  },
  "language_info": {
   "codemirror_mode": {
    "name": "ipython",
    "version": 3
   },
   "file_extension": ".py",
   "mimetype": "text/x-python",
   "name": "python",
   "nbconvert_exporter": "python",
   "pygments_lexer": "ipython3",
   "version": "3.11.5"
  }
 },
 "nbformat": 4,
 "nbformat_minor": 2
}
