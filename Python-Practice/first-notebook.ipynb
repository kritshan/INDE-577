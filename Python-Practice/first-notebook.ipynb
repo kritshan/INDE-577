{
 "cells": [
  {
   "cell_type": "code",
   "execution_count": 4,
   "metadata": {},
   "outputs": [
    {
     "name": "stdout",
     "output_type": "stream",
     "text": [
      "100000\n"
     ]
    },
    {
     "data": {
      "text/plain": [
       "{'John Doe': {'first_name': 'John',\n",
       "  'last_name': 'Doe',\n",
       "  'age': 34,\n",
       "  'salary': 100000},\n",
       " 'Jane Doe': {'first_name': 'Jane',\n",
       "  'last_name': 'Doe',\n",
       "  'age': 32,\n",
       "  'salary': 90000},\n",
       " 'Mike Cox': {'age': 45, 'salary': 80000}}"
      ]
     },
     "execution_count": 4,
     "metadata": {},
     "output_type": "execute_result"
    }
   ],
   "source": [
    "john_data = {\n",
    "    'first_name': 'John',\n",
    "    'last_name': 'Doe', \n",
    "    'age': 34,\n",
    "    'salary': 100_000\n",
    "}\n",
    "\n",
    "jane_data = {\n",
    "    'first_name': 'Jane',\n",
    "    'last_name': 'Doe', \n",
    "    'age': 32,\n",
    "    'salary': 90_000\n",
    "}\n",
    "\n",
    "employee_data = {\n",
    "    'John Doe': john_data,\n",
    "    'Jane Doe': jane_data\n",
    "}\n",
    "\n",
    "print(employee_data['John Doe']['salary'])\n",
    "\n",
    "total_salary = sum([employee_data[employee]['salary'] for employee in employee_data])\n",
    "\n",
    "class DataBase:\n",
    "    def __init__(self, employee_data, vendor_data = None):\n",
    "        self.employee_data = employee_data\n",
    "        self.vendor_data = vendor_data\n",
    "        \n",
    "    def get_employee_names(self):\n",
    "        return list(self.employee_data.keys())\n",
    "    \n",
    "    def get_employee_salary(self):\n",
    "        return sum(self.employee_data[name][\"salary\"] for name in self.employee_data)\n",
    "    \n",
    "    def add_employee(self, name, data):\n",
    "        self.employee_data[name] = data\n",
    "\n",
    "my_vendor_data = {}\n",
    "\n",
    "db = DataBase(employee_data, vendor_data = my_vendor_data)\n",
    "db.add_employee('Mike Cox', {'age': 45, 'salary': 80_000})\n",
    "db.employee_data"
   ]
  },
  {
   "cell_type": "code",
   "execution_count": null,
   "metadata": {},
   "outputs": [],
   "source": []
  }
 ],
 "metadata": {
  "kernelspec": {
   "display_name": "base",
   "language": "python",
   "name": "python3"
  },
  "language_info": {
   "codemirror_mode": {
    "name": "ipython",
    "version": 3
   },
   "file_extension": ".py",
   "mimetype": "text/x-python",
   "name": "python",
   "nbconvert_exporter": "python",
   "pygments_lexer": "ipython3",
   "version": "3.11.5"
  }
 },
 "nbformat": 4,
 "nbformat_minor": 2
}
