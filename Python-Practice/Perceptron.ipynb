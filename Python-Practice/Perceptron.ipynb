{
 "cells": [
  {
   "cell_type": "code",
   "execution_count": 21,
   "metadata": {},
   "outputs": [],
   "source": [
    "import pandas as pd\n",
    "import numpy as np\n",
    "import matplotlib.pyplot as plt\n",
    "import seaborn as sns\n",
    "\n",
    "sns.set_theme()\n",
    "\n",
    "# Load Dataset\n",
    "df = pd.read_csv(\"/Users/kritinshanmugam/Desktop/palmer_penguins.csv\")\n",
    "\n",
    "\n",
    "# Get data only related to sepal\n",
    "target_df = df[['bill_length_mm', 'bill_depth_mm', 'flipper_length_mm', 'body_mass_g', 'species', 'island']]\n",
    "\n",
    "# Species Name\n",
    "target_df['species'].unique()\n",
    "\n",
    "target_df = target_df.dropna()\n",
    "\n",
    "# Select only rows from target_data where the species is setosa or versicolor\n",
    "target_df = target_df[target_df['species'].isin(['Chinstrap', 'Gentoo'])]\n",
    "\n",
    "target_df['species'] = np.where(target_df['species'] == 'Chinstrap', 1, -1)\n",
    "target_df['island'] = np.where(target_df['island'] == 'Dream', 1, -1)\n",
    "\n",
    "X = target_df[['bill_length_mm', 'bill_depth_mm', 'flipper_length_mm', 'body_mass_g', 'species']].values\n",
    "y = target_df['species'].values\n",
    "\n"
   ]
  },
  {
   "cell_type": "code",
   "execution_count": 22,
   "metadata": {},
   "outputs": [],
   "source": [
    "class Perceptron(object):\n",
    "    def __init__(self, eta = 0.5, epochs = 50):\n",
    "        self.eta = eta\n",
    "        self.epochs = epochs\n",
    "    \n",
    "    def train(self, X, y):\n",
    "        self.w_ = np.random.rand(1 + X.shape[1])\n",
    "        \n",
    "        self.errors_ = []\n",
    "        \n",
    "        for _ in range(self.epochs):\n",
    "            errors = 0\n",
    "            for xi, target in zip(X, y):\n",
    "                update = self.eta * (self.predict(xi) - target)\n",
    "                self.w_[:-1] -= update*xi\n",
    "                self.w_[-1] -= update\n",
    "                errors += int(update != 0)\n",
    "                if errors == 0:\n",
    "                    return self\n",
    "                else:\n",
    "                    return self.errors_.append(errors)\n",
    "        \n",
    "        return self\n",
    "    \n",
    "    def net_input(self, X):\n",
    "        return np.dot(X, self.w_[:-1]) + self.w_[-1]\n",
    "    \n",
    "    def predict(self, X):\n",
    "        return np.where(self.net_input(X) >= 0, 1, -1)"
   ]
  },
  {
   "cell_type": "code",
   "execution_count": 28,
   "metadata": {},
   "outputs": [
    {
     "name": "stdout",
     "output_type": "stream",
     "text": [
      "15\n",
      "[-1 -1 -1 -1 -1 -1 -1 -1 -1 -1 -1 -1 -1 -1 -1 -1 -1 -1 -1 -1 -1 -1 -1 -1\n",
      " -1 -1 -1 -1 -1 -1 -1 -1 -1 -1 -1 -1 -1 -1 -1 -1 -1 -1 -1 -1 -1 -1 -1 -1]\n"
     ]
    }
   ],
   "source": [
    "from sklearn.model_selection import train_test_split\n",
    "\n",
    "# Create instance of Perceptron class with 10k epochs\n",
    "Percept = Perceptron(epochs = 10_000)\n",
    "\n",
    "# Split dataset into training and test data\n",
    "X_train, X_test, y_train, y_test = train_test_split(X, y, test_size= 0.25)\n",
    "\n",
    "# Train the Perceptron on the training dataset\n",
    "Percept.train(X_train, y_train)\n",
    "\n",
    "# Obtain the predictions\n",
    "y_predictions = Percept.predict(X_test)\n",
    "\n",
    "booleans = ((y_test == y_predictions))\n",
    "\n",
    "print(np.sum(booleans == False))\n",
    "print(y_predictions)"
   ]
  }
 ],
 "metadata": {
  "kernelspec": {
   "display_name": "base",
   "language": "python",
   "name": "python3"
  },
  "language_info": {
   "codemirror_mode": {
    "name": "ipython",
    "version": 3
   },
   "file_extension": ".py",
   "mimetype": "text/x-python",
   "name": "python",
   "nbconvert_exporter": "python",
   "pygments_lexer": "ipython3",
   "version": "3.11.5"
  }
 },
 "nbformat": 4,
 "nbformat_minor": 2
}
