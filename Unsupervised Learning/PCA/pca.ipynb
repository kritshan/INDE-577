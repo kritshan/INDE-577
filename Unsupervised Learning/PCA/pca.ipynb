{
 "cells": [
  {
   "cell_type": "markdown",
   "metadata": {},
   "source": [
    "# PCA\n",
    "\n",
    "With prinicipal component analysis, we will try to eliminate redundant and highly correlated data, keeping only the most significant features for further analysis.\n",
    "\n",
    "Here are the steps of PCA:\n",
    "\n",
    "1. Standardize Data: \\ \n",
    "\n",
    "$\\qquad$ We standardize our data with the formula $z = \\frac{x - \\mu}{\\sigma}$\n",
    "\n",
    "2. Compute Covariance/Correlation Matrix: \\\n",
    "\n",
    "$\\qquad$ We can calculate our covariance/correlation matrix with the formula $M = \\frac{1}{n-1} \\cdot AA^T$\n",
    "\n",
    "$\\qquad$ For standardized data, this formula computes the covariance matrix of size $m x m$. The off-diagonal elements of the covariance matrix represent the covariances between pairs of variables. These covariances indicate how much two variables vary together. In PCA, these covariances provide insights into the relationships between variables and help identify patterns of correlation. The diagonal elements represent the variances of the original variables. \n",
    "\n",
    "3. Eigenvalue Decomposition\n",
    "\n",
    "4. Select Principal Components\n",
    "\n",
    "5. Reduce Dimensionality\n",
    "\n"
   ]
  },
  {
   "cell_type": "code",
   "execution_count": null,
   "metadata": {},
   "outputs": [],
   "source": []
  }
 ],
 "metadata": {
  "language_info": {
   "name": "python"
  }
 },
 "nbformat": 4,
 "nbformat_minor": 2
}
