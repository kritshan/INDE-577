{
 "cells": [
  {
   "cell_type": "code",
   "execution_count": null,
   "metadata": {},
   "outputs": [],
   "source": [
    "from sklearn.model_selection import train_test_split\n",
    "\n",
    "X = iris[[\"petal_length\",\n",
    "          \"petal_width\"]].to_numpy()\n",
    "\n",
    "y = iris[\"species\"].to_numpy()\n",
    "\n",
    "X_train, X_test, y_train, y_test = train_test_split(X,\n",
    "                                                    y, \n",
    "                                                    test_size=0.33, \n",
    "                                                    random_state=1)\n",
    "def distance(p, q):\n",
    "    return np.sqrt((p - q) @ (p - q))\n",
    "\n",
    "print(f\"The distance between point 10 and 67 is {distance(X[10], X[67])}\")"
   ]
  },
  {
   "cell_type": "code",
   "execution_count": null,
   "metadata": {},
   "outputs": [],
   "source": [
    "def k_nearest_neighbors(point, \n",
    "                        training_features, \n",
    "                        training_labels, \n",
    "                        k):\n",
    "    # Create an empty list to store neighbors and distances\n",
    "    neighbors = []\n",
    "    \n",
    "    for p, label in zip(training_features, training_labels):\n",
    "        d = distance(point, p)\n",
    "        temp_data = [p, label, d]\n",
    "        neighbors.append(temp_data)\n",
    "        \n",
    "    neighbors.sort(key = lambda x : x[-1])\n",
    "    \n",
    "    return neighbors[:k]\n",
    "\n",
    "k_nearest_neighbors(X_test[-1], X_train, y_train, 5)\n",
    "\n",
    "# make better\n",
    "\n"
   ]
  },
  {
   "cell_type": "code",
   "execution_count": null,
   "metadata": {},
   "outputs": [],
   "source": [
    "def KNN_Predict(point, \n",
    "                training_features, \n",
    "                training_labels, \n",
    "                k, \n",
    "                regression = False):\n",
    "    \n",
    "    neighbors = k_nearest_neighbors(point, \n",
    "                                    training_features, \n",
    "                                    training_labels, \n",
    "                                    k)\n",
    "    \n",
    "    if regression == False:\n",
    "        labels = [x[1] for x in neighbors]\n",
    "        return max(labels, key = labels.count)\n",
    "    \n",
    "    else:\n",
    "        return sum(x[1] for x in neighbors)/k\n",
    "    \n",
    "KNN_Predict(X_test[20], X_train, y_train, 5)\n",
    "\n",
    "# use validation sets to find optimal k, not test set\n",
    "\n"
   ]
  }
 ],
 "metadata": {
  "language_info": {
   "name": "python"
  }
 },
 "nbformat": 4,
 "nbformat_minor": 2
}
